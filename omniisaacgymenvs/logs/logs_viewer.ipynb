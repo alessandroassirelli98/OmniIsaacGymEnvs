{
 "cells": [
  {
   "cell_type": "code",
   "execution_count": 58,
   "metadata": {},
   "outputs": [],
   "source": [
    "import pandas as pd\n",
    "import json\n",
    "import numpy as np\n",
    "import matplotlib.pyplot as plt\n",
    "import matplotlib\n",
    "matplotlib.style.use(\"seaborn\")"
   ]
  },
  {
   "cell_type": "code",
   "execution_count": 68,
   "metadata": {},
   "outputs": [],
   "source": [
    "with open('./logs.json') as f:\n",
    "    data = json.load(f)\n",
    "df = pd.json_normalize(data[\"Isaac Sim Data\"], meta=[\"data\", [\"joint_positions\", \"applied_joint_positions\"]])"
   ]
  },
  {
   "cell_type": "code",
   "execution_count": 69,
   "metadata": {},
   "outputs": [],
   "source": [
    "df.columns = [\"time\", \"timestep\", \"joint_position\", \"desired_joint_position\"]"
   ]
  },
  {
   "cell_type": "code",
   "execution_count": 70,
   "metadata": {},
   "outputs": [
    {
     "data": {
      "text/html": [
       "<div>\n",
       "<style scoped>\n",
       "    .dataframe tbody tr th:only-of-type {\n",
       "        vertical-align: middle;\n",
       "    }\n",
       "\n",
       "    .dataframe tbody tr th {\n",
       "        vertical-align: top;\n",
       "    }\n",
       "\n",
       "    .dataframe thead th {\n",
       "        text-align: right;\n",
       "    }\n",
       "</style>\n",
       "<table border=\"1\" class=\"dataframe\">\n",
       "  <thead>\n",
       "    <tr style=\"text-align: right;\">\n",
       "      <th></th>\n",
       "      <th>time</th>\n",
       "      <th>timestep</th>\n",
       "      <th>joint_position</th>\n",
       "      <th>desired_joint_position</th>\n",
       "    </tr>\n",
       "  </thead>\n",
       "  <tbody>\n",
       "    <tr>\n",
       "      <th>0</th>\n",
       "      <td>0.025000</td>\n",
       "      <td>3</td>\n",
       "      <td>[[0.0006390805938281119, -0.023326512426137924...</td>\n",
       "      <td>[[0.01644926704466343, 0.0, 0.0, -0.0697999894...</td>\n",
       "    </tr>\n",
       "    <tr>\n",
       "      <th>1</th>\n",
       "      <td>0.033333</td>\n",
       "      <td>4</td>\n",
       "      <td>[[0.006312406621873379, -0.01310260221362114, ...</td>\n",
       "      <td>[[0.032898083329200745, 0.0, 0.0, -0.069799989...</td>\n",
       "    </tr>\n",
       "    <tr>\n",
       "      <th>2</th>\n",
       "      <td>0.041667</td>\n",
       "      <td>5</td>\n",
       "      <td>[[0.01328403502702713, -0.005801275838166475, ...</td>\n",
       "      <td>[[0.04934599623084068, 0.0, 0.0, -0.0697999894...</td>\n",
       "    </tr>\n",
       "    <tr>\n",
       "      <th>3</th>\n",
       "      <td>0.050000</td>\n",
       "      <td>6</td>\n",
       "      <td>[[0.021578148007392883, 0.0038283944595605135,...</td>\n",
       "      <td>[[0.06579255312681198, 0.0, 0.0, -0.0697999894...</td>\n",
       "    </tr>\n",
       "    <tr>\n",
       "      <th>4</th>\n",
       "      <td>0.058333</td>\n",
       "      <td>7</td>\n",
       "      <td>[[0.030776076018810272, 0.015837201848626137, ...</td>\n",
       "      <td>[[0.08223731070756912, 0.0, 0.0, -0.0697999894...</td>\n",
       "    </tr>\n",
       "    <tr>\n",
       "      <th>...</th>\n",
       "      <td>...</td>\n",
       "      <td>...</td>\n",
       "      <td>...</td>\n",
       "      <td>...</td>\n",
       "    </tr>\n",
       "    <tr>\n",
       "      <th>882</th>\n",
       "      <td>7.375000</td>\n",
       "      <td>885</td>\n",
       "      <td>[[-2.8838658332824707, 0.012517356313765049, 0...</td>\n",
       "      <td>[[-2.8972997665405273, 0.0, 0.0, -0.0697999894...</td>\n",
       "    </tr>\n",
       "    <tr>\n",
       "      <th>883</th>\n",
       "      <td>7.383334</td>\n",
       "      <td>886</td>\n",
       "      <td>[[-2.8842830657958984, 0.012545013800263405, 0...</td>\n",
       "      <td>[[-2.8972997665405273, 0.0, 0.0, -0.0697999894...</td>\n",
       "    </tr>\n",
       "    <tr>\n",
       "      <th>884</th>\n",
       "      <td>7.391667</td>\n",
       "      <td>887</td>\n",
       "      <td>[[-2.884770393371582, 0.012572269886732101, 0....</td>\n",
       "      <td>[[-2.8972997665405273, 0.0, 0.0, -0.0697999894...</td>\n",
       "    </tr>\n",
       "    <tr>\n",
       "      <th>885</th>\n",
       "      <td>7.400000</td>\n",
       "      <td>888</td>\n",
       "      <td>[[-2.885322332382202, 0.012598966248333454, 0....</td>\n",
       "      <td>[[-2.8972997665405273, 0.0, 0.0, -0.0697999894...</td>\n",
       "    </tr>\n",
       "    <tr>\n",
       "      <th>886</th>\n",
       "      <td>7.408334</td>\n",
       "      <td>889</td>\n",
       "      <td>[[-2.885934829711914, 0.012624938040971756, 0....</td>\n",
       "      <td>[[-2.8972997665405273, 0.0, 0.0, -0.0697999894...</td>\n",
       "    </tr>\n",
       "  </tbody>\n",
       "</table>\n",
       "<p>887 rows × 4 columns</p>\n",
       "</div>"
      ],
      "text/plain": [
       "         time  timestep                                     joint_position  \\\n",
       "0    0.025000         3  [[0.0006390805938281119, -0.023326512426137924...   \n",
       "1    0.033333         4  [[0.006312406621873379, -0.01310260221362114, ...   \n",
       "2    0.041667         5  [[0.01328403502702713, -0.005801275838166475, ...   \n",
       "3    0.050000         6  [[0.021578148007392883, 0.0038283944595605135,...   \n",
       "4    0.058333         7  [[0.030776076018810272, 0.015837201848626137, ...   \n",
       "..        ...       ...                                                ...   \n",
       "882  7.375000       885  [[-2.8838658332824707, 0.012517356313765049, 0...   \n",
       "883  7.383334       886  [[-2.8842830657958984, 0.012545013800263405, 0...   \n",
       "884  7.391667       887  [[-2.884770393371582, 0.012572269886732101, 0....   \n",
       "885  7.400000       888  [[-2.885322332382202, 0.012598966248333454, 0....   \n",
       "886  7.408334       889  [[-2.885934829711914, 0.012624938040971756, 0....   \n",
       "\n",
       "                                desired_joint_position  \n",
       "0    [[0.01644926704466343, 0.0, 0.0, -0.0697999894...  \n",
       "1    [[0.032898083329200745, 0.0, 0.0, -0.069799989...  \n",
       "2    [[0.04934599623084068, 0.0, 0.0, -0.0697999894...  \n",
       "3    [[0.06579255312681198, 0.0, 0.0, -0.0697999894...  \n",
       "4    [[0.08223731070756912, 0.0, 0.0, -0.0697999894...  \n",
       "..                                                 ...  \n",
       "882  [[-2.8972997665405273, 0.0, 0.0, -0.0697999894...  \n",
       "883  [[-2.8972997665405273, 0.0, 0.0, -0.0697999894...  \n",
       "884  [[-2.8972997665405273, 0.0, 0.0, -0.0697999894...  \n",
       "885  [[-2.8972997665405273, 0.0, 0.0, -0.0697999894...  \n",
       "886  [[-2.8972997665405273, 0.0, 0.0, -0.0697999894...  \n",
       "\n",
       "[887 rows x 4 columns]"
      ]
     },
     "execution_count": 70,
     "metadata": {},
     "output_type": "execute_result"
    }
   ],
   "source": [
    "df"
   ]
  },
  {
   "cell_type": "code",
   "execution_count": 71,
   "metadata": {},
   "outputs": [],
   "source": [
    "positions = np.array(df[\"joint_position\"].values.tolist())\n",
    "targets = np.array(df[\"desired_joint_position\"].values.tolist())\n",
    "times = np.array(df[\"time\"].values.tolist())"
   ]
  },
  {
   "cell_type": "code",
   "execution_count": 72,
   "metadata": {},
   "outputs": [
    {
     "data": {
      "text/plain": [
       "<matplotlib.legend.Legend at 0x297689cef08>"
      ]
     },
     "execution_count": 72,
     "metadata": {},
     "output_type": "execute_result"
    },
    {
     "data": {
      "image/png": "[encoded data removed]",
      "text/plain": [
       "<Figure size 800x550 with 1 Axes>"
      ]
     },
     "metadata": {},
     "output_type": "display_data"
    }
   ],
   "source": [
    "joint_idx = 0\n",
    "env_idx = 0\n",
    "plt.plot(times, positions[:,env_idx,joint_idx])\n",
    "plt.plot(times, targets[:,env_idx,joint_idx])\n",
    "plt.legend([\"realized\", \"target\"])"
   ]
  },
  {
   "cell_type": "code",
   "execution_count": null,
   "metadata": {},
   "outputs": [],
   "source": []
  }
 ],
 "metadata": {
  "kernelspec": {
   "display_name": "isaac-sim-2022.2.1",
   "language": "python",
   "name": "python3"
  },
  "language_info": {
   "codemirror_mode": {
    "name": "ipython",
    "version": 3
   },
   "file_extension": ".py",
   "mimetype": "text/x-python",
   "name": "python",
   "nbconvert_exporter": "python",
   "pygments_lexer": "ipython3",
   "version": "3.7.13"
  }
 },
 "nbformat": 4,
 "nbformat_minor": 2
}
